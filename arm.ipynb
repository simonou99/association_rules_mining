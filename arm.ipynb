{
 "cells": [
  {
   "cell_type": "markdown",
   "metadata": {},
   "source": [
    "# Association Rules Mining Program\n",
    "Welcome, this is a association miner built with apriori algorithm.  <br />\n",
    "Different from the Jupyter's prebuilt algorithm, this one is built by myself and was for one of my school projects, now it's rewritten for personal use.\n",
    "\n",
    "The program can be use with different datasets, if modified, but currently it is only tested for purcahse rules mining from shopping transactions. The program also has features like changing its minimum support, confidence and lift.\n",
    "\n",
    "Here are the codes and some instructions on how to use it.\n",
    "\n",
    "*For instructing ease, we use a shopping transactions data for the following instructions.* <br />\n",
    "\n",
    "**Hey! If you want to ignore all the codes and theory parts, just copy-paste the codes and go straight to '3.'** <br />\n",
    "**However reading the following is highly recommended.**"
   ]
  },
  {
   "cell_type": "markdown",
   "metadata": {},
   "source": [
    "## 1. Initialization and imports:\n",
    "We will need *numpy, pandas and csv* for this program. <br />\n",
    "The program is currently written to process csv only. <br />\n",
    "However, it can be modified to process other format.\n",
    "\n",
    "The csv should **only** have rows of items or self-assigned categories (e.g. 'milk', 'eggs', 'shop_department:12', 'customer_age:34'), that is, there should not be any headers.<br />\n",
    "However items in each row can be stored at random places."
   ]
  },
  {
   "cell_type": "code",
   "execution_count": 15,
   "metadata": {},
   "outputs": [],
   "source": [
    "import numpy as np\n",
    "import csv\n",
    "from csv import reader\n",
    "import pandas as pd"
   ]
  },
  {
   "cell_type": "markdown",
   "metadata": {},
   "source": [
    "## 2. Main codes section for the whole mining procedure\n",
    "This will be the codes for the algorithm.\n",
    "Sorry the order for each function is a bit weird. However it should work fine.\n",
    "\n",
    "### i. Apriori algorithm function:\n",
    "The algorithm will have these input parameters:\n",
    "- **rawd**: Raw csv data\n",
    "- **mspt**: Minimum support value.\n",
    "- **mcf**: Minimum confidence value.\n",
    "- **mlft**: Minimum lift.\n",
    "- (Optional) **mrspt**: Minimum relative support, mspt value but with added constraint of items frequency. *Used only when data has frequent commom items.*\n",
    "\n",
    "EXPLANATION for **support**, **confidence** and **lift**: <br />\n",
    "These are constraints for the likelihood i.e. the probability of the found rules.\n",
    "Hence, they should all be set between 0 and 1. <br />\n",
    "The larger the probability ceilling, the less rules will be found.\n",
    "\n",
    "Following are the culculation for each parameters:\n",
    "- sup(X,Y)=P(XY)=num(XY)/num(all_samples)\n",
    "- conf(X⇐Y)=P(X|Y)=P(XY)/P(Y)\n",
    "- lift(X⇐Y)=P(X|Y)/P(X)=conf(X⇐Y)/P(X)\n",
    "\n",
    "Normally, we do not change the minimal lift if there are large amount of infrequent rules.<br />\n",
    "***Hence**, assign **mlft=0** if you have very infrequent items data sets or not sure about the rules frequencies in the data.*"
   ]
  },
  {
   "cell_type": "code",
   "execution_count": 16,
   "metadata": {},
   "outputs": [],
   "source": [
    "#This is the main funct to run the algorithm.\n",
    "def apr(rawd, mspt=0.15,mcf=0.80,mlft=0):\n",
    "    #since we don't have a freq items data yet,\n",
    "    #we first convert data to a non-mutable freq list\n",
    "    #then create a mutable list, with same original data\n",
    "    rawset, set_mutable=formatdata(rawd)\n",
    "    #get a minimun-supported (minsup) set, and its freq dict.\n",
    "    sptitm,sptdct=get_spted(set_mutable, rawset, mspt)\n",
    "    c=2\n",
    "    sptitmlst=[sptitm]\n",
    "    while len(sptitmlst[c-2])>0:\n",
    "        set_mutable,sptitmlst,sptdct,mspt,c=proc_for_each_row(set_mutable,sptitmlst,sptdct,mspt,c)\n",
    "    out_rules=get_rules(sptitmlst, sptdct, mcf, mlft)\n",
    "    return out_rules"
   ]
  },
  {
   "cell_type": "markdown",
   "metadata": {},
   "source": [
    "### ii. Create rules sets:"
   ]
  },
  {
   "cell_type": "code",
   "execution_count": 17,
   "metadata": {},
   "outputs": [],
   "source": [
    "def get_rules(sptitmlst, sptdct, mcf, mlft):\n",
    "    ruleset=[]\n",
    "    for i in range(1,len(sptitmlst)):\n",
    "        for frq in sptitmlst[i]:\n",
    "            rawfrqlst=[frozenset([x]) for x in frq]\n",
    "            if i>1:\n",
    "                #if the rule's itself has >1 items, but outcome has only 1:\n",
    "                #seperately calculate confidence and outcome of each rule:\n",
    "                frqlst= get_output(frq, rawfrqlst, sptdct, ruleset, mcf, mlft)\n",
    "                if len(frqlst) > 1:\n",
    "                    get_result(frq, frqlst, sptdct, ruleset, mcf, mlft)\n",
    "            else:\n",
    "                get_output(frq, rawfrqlst, sptdct, ruleset, mcf, mlft)\n",
    "    return ruleset"
   ]
  },
  {
   "cell_type": "markdown",
   "metadata": {},
   "source": [
    "### iii. Data pre-processing:\n",
    "We create an immutable data set in this function."
   ]
  },
  {
   "cell_type": "code",
   "execution_count": 18,
   "metadata": {},
   "outputs": [],
   "source": [
    "def formatdata(d):\n",
    "    dset=[]\n",
    "    for row in d:\n",
    "        for itm in row:\n",
    "            if not [itm] in dset:\n",
    "                dset.append([itm])\n",
    "    dset.sort()\n",
    "    return list(map(frozenset, dset)), list(map(set, d))"
   ]
  },
  {
   "cell_type": "markdown",
   "metadata": {},
   "source": [
    "### iv. Single Row processing:"
   ]
  },
  {
   "cell_type": "code",
   "execution_count": 19,
   "metadata": {},
   "outputs": [],
   "source": [
    "def proc_for_each_row(set_mute,set_freeze,frqdct,mspt,c):\n",
    "        #remove repetition and\n",
    "        #get all min-supported item list again after data cleaning/processing\n",
    "        cleansptitm,cleansptdct=get_spted(set_mute, get_non_rep(set_freeze[c-2], c), mspt)\n",
    "        c+=1\n",
    "        frqdct.update(cleansptdct)\n",
    "        set_freeze.append(cleansptitm)\n",
    "        return set_mute,set_freeze,frqdct,mspt,c"
   ]
  },
  {
   "cell_type": "markdown",
   "metadata": {},
   "source": [
    "### v. Reserve the rules that match the min-support constraint:"
   ]
  },
  {
   "cell_type": "code",
   "execution_count": 20,
   "metadata": {},
   "outputs": [],
   "source": [
    "def get_spted(rawd, dset, mspt):  \n",
    "    frqdct={}\n",
    "    sptitm=[]\n",
    "    sptdct={}\n",
    "    #first make a freq dict of setX\n",
    "    for i in rawd:\n",
    "        for x in dset:\n",
    "            if x.issubset(i):\n",
    "                if x not in frqdct:\n",
    "                    frqdct[x]=1\n",
    "                else:\n",
    "                    frqdct[x]+=1\n",
    "    #then calculate sup = {setX in a setY} / number_of_sets\n",
    "    #and reserve sets that its sup > minsup\n",
    "    total=float(len(rawd))\n",
    "    for i in frqdct:\n",
    "        spt=frqdct[i]/total\n",
    "        if spt>=mspt:\n",
    "            sptitm.insert(0,i)\n",
    "        sptdct[i]=spt\n",
    "    #return sets that match minsup, and their freq dict\n",
    "    return sptitm,sptdct"
   ]
  },
  {
   "cell_type": "markdown",
   "metadata": {},
   "source": [
    "### vi. Check and remove repetitions:"
   ]
  },
  {
   "cell_type": "code",
   "execution_count": 21,
   "metadata": {},
   "outputs": [],
   "source": [
    "def get_non_rep(rawlst, k):\n",
    "    cleanlst=[]\n",
    "    size=len(rawlst)\n",
    "    for i in range(size):\n",
    "        for x in range(i+1,size):\n",
    "            #do so by checking last k-2 sets\n",
    "            #if they are the same, combine them with bitwise or.\n",
    "            l1=list(rawlst[i])[:(k-2)]\n",
    "            l2=list(rawlst[x])[:(k-2)]\n",
    "            l1.sort()\n",
    "            l2.sort()\n",
    "            if l1==l2:\n",
    "                cleanlst.append(rawlst[i]|rawlst[x])\n",
    "    return cleanlst"
   ]
  },
  {
   "cell_type": "markdown",
   "metadata": {},
   "source": [
    "### vii. Get a single rule with single item in apriori:\n",
    "This will output a single rule as a **python list**, the output contains:\n",
    "- **Apriori**, python list, e.g. ['flour'], ['party_lights', 'beer']\n",
    "- **Posterior**, python list, e.g. ['milk', 'eggs'], ['chips']\n",
    "- Its **lift** value.\n",
    "- Its **confidence** value.\n",
    "- Its **support** value.\n",
    "\n",
    "__Yeah but what does it mean?__<br />\n",
    "For example, in a shopping scenario/dataset, if you get something like [['flour'], ['milk', 'eggs'], 0, 0.8, 0.15]. <br/>\n",
    "It means: \"For the rule '*buying flour is associated with buying milk and eggs*' has a lift=0, confidence=0.8 and support=0.15\"."
   ]
  },
  {
   "cell_type": "code",
   "execution_count": 22,
   "metadata": {},
   "outputs": [],
   "source": [
    "def get_output(frqset,rawfrqlst,sptd,ruleset,mcf,mlft):\n",
    "    cleanfrqset=[]\n",
    "    for outcome in rawfrqlst:\n",
    "        #calculate conf and lift\n",
    "        cf=sptd[frqset]/sptd[frqset-outcome]\n",
    "        lft=sptd[frqset]/(sptd[frqset-outcome]*sptd[outcome])\n",
    "        #filter with minsup and minlift\n",
    "        if cf>=mcf and lft>=mlft:\n",
    "            ruleset.append([frqset-outcome,outcome,lft,cf,sptd[frqset]])\n",
    "            cleanfrqset.append(outcome)\n",
    "    return cleanfrqset"
   ]
  },
  {
   "cell_type": "markdown",
   "metadata": {},
   "source": [
    "### viii. Get a single rule with more than 2 items in the apriori:\n",
    "Same as the previous one, but the previous one can only get rules with single item in apriori. <br />\n",
    "This one allows to process and store rules with multi items in the apriori."
   ]
  },
  {
   "cell_type": "code",
   "execution_count": 23,
   "metadata": {},
   "outputs": [],
   "source": [
    "def get_result(frqset, rawfrqlst, sptd, rulelst, mcf, mlft):\n",
    "    i=len(rawfrqlst[0])\n",
    "    if len(frqset)>(i+1):\n",
    "        #check repetition\n",
    "        frqlst=get_non_rep(rawfrqlst, i+1)\n",
    "        frqlst=get_output(frqset,frqlst,sptd,rulelst,mcf,mlft)\n",
    "        if len(frqlst)>1:\n",
    "            get_result(frqset,frqlst,sptd,rulelst,mcf,mlft)"
   ]
  },
  {
   "cell_type": "markdown",
   "metadata": {},
   "source": [
    "### ix. (Optional) Sort the result:\n",
    "Sort all the found rules descending in following order: number of apriori, number of posterior, lift, confidence then support. "
   ]
  },
  {
   "cell_type": "code",
   "execution_count": 24,
   "metadata": {},
   "outputs": [],
   "source": [
    "def tidy_sort(rules):\n",
    "    for r in rules:\n",
    "        r[0]=list(r[0])\n",
    "        r[1]=list(r[1])\n",
    "    rules.sort(key = lambda i:(len(i[0]),len(i[1]),i[2],i[3],i[4]),reverse=True)"
   ]
  },
  {
   "cell_type": "markdown",
   "metadata": {},
   "source": [
    "### x. (Optional) Print all the rules (CAUSTION: may print a lot!):\n",
    "Prints all the rules found. <br />\n",
    "Usefull for presenting if the rules found are in small number. <br />\n",
    "Suggest checking the total length of the found rules list first."
   ]
  },
  {
   "cell_type": "code",
   "execution_count": 25,
   "metadata": {},
   "outputs": [],
   "source": [
    "def print_rules(rls):\n",
    "    for r in rls:\n",
    "        print('{',str(r[0])[1:-1].replace(\"'\",'').replace(' ',''),'}',sep='',end='')\n",
    "        print('-->',end='')\n",
    "        print('{',str(r[1])[1:-1].replace(\"'\",'').replace(' ',''),'}',sep='',end=',  ')\n",
    "        print(f'Lift={round(r[2],2)}',end=',  ')\n",
    "        print(f'Conf={round(r[3],2)}',end=',  ')\n",
    "        print(f'Sup={round(r[4],2)}')"
   ]
  },
  {
   "cell_type": "markdown",
   "metadata": {},
   "source": [
    "## 3. How to use (demo):\n",
    "For demo ease, I've generate some random rules:"
   ]
  },
  {
   "cell_type": "code",
   "execution_count": 26,
   "metadata": {},
   "outputs": [],
   "source": [
    "#Store transactions as list:\n",
    "d1=[['A','B','C','D','F'],['A','B','C','D'],['A','B','C','D'],['A','B'],['B','C','E']]"
   ]
  },
  {
   "cell_type": "markdown",
   "metadata": {},
   "source": [
    "We then run with the previous written algorithm: <br />\n",
    "Use the function **apr(your_data, mspt, mcf, mlft)** or apr(your_data) if using default parameters. <br />\n",
    "The output will be a nested list containing all the rules.\n",
    "Each list item (or row) will be a single rule, containing:\n",
    "- list[0]: Apriori, i.e. an item set\n",
    "- list[1]: Posterior, i.e. the output item set that found to be associated with the apriori item set.\n",
    "- list[2]: Lift value.\n",
    "- list[3]: Confidence value.\n",
    "- list[4]: Support value.\n",
    "\n",
    "If you are using CSV, goto '4.' or convert it to a nested list if you know how.\n",
    "\n",
    "In here, we use mspt=0.30 for shorter output."
   ]
  },
  {
   "cell_type": "code",
   "execution_count": 36,
   "metadata": {},
   "outputs": [
    {
     "name": "stdout",
     "output_type": "stream",
     "text": [
      "{A,C,B}-->{D},  Lift=1.67,  Conf=1.0,  Sup=0.6\n",
      "{D,A,B}-->{C},  Lift=1.25,  Conf=1.0,  Sup=0.6\n",
      "{D,C,B}-->{A},  Lift=1.25,  Conf=1.0,  Sup=0.6\n",
      "{D,C,A}-->{B},  Lift=1.0,  Conf=1.0,  Sup=0.6\n",
      "{A,C}-->{D,B},  Lift=1.67,  Conf=1.0,  Sup=0.6\n",
      "{D,B}-->{A,C},  Lift=1.67,  Conf=1.0,  Sup=0.6\n",
      "{D,A}-->{C,B},  Lift=1.25,  Conf=1.0,  Sup=0.6\n",
      "{D,C}-->{A,B},  Lift=1.25,  Conf=1.0,  Sup=0.6\n",
      "{A,C}-->{D},  Lift=1.67,  Conf=1.0,  Sup=0.6\n",
      "{D,B}-->{C},  Lift=1.25,  Conf=1.0,  Sup=0.6\n",
      "{D,A}-->{C},  Lift=1.25,  Conf=1.0,  Sup=0.6\n",
      "{D,C}-->{A},  Lift=1.25,  Conf=1.0,  Sup=0.6\n",
      "{D,B}-->{A},  Lift=1.25,  Conf=1.0,  Sup=0.6\n",
      "{D,C}-->{B},  Lift=1.0,  Conf=1.0,  Sup=0.6\n",
      "{D,A}-->{B},  Lift=1.0,  Conf=1.0,  Sup=0.6\n",
      "{A,C}-->{B},  Lift=1.0,  Conf=1.0,  Sup=0.6\n",
      "{D}-->{A,C,B},  Lift=1.67,  Conf=1.0,  Sup=0.6\n",
      "{D}-->{A,C},  Lift=1.67,  Conf=1.0,  Sup=0.6\n",
      "{D}-->{C,B},  Lift=1.25,  Conf=1.0,  Sup=0.6\n",
      "{D}-->{A,B},  Lift=1.25,  Conf=1.0,  Sup=0.6\n",
      "{D}-->{A},  Lift=1.25,  Conf=1.0,  Sup=0.6\n",
      "{D}-->{C},  Lift=1.25,  Conf=1.0,  Sup=0.6\n",
      "{A}-->{B},  Lift=1.0,  Conf=1.0,  Sup=0.8\n",
      "{C}-->{B},  Lift=1.0,  Conf=1.0,  Sup=0.8\n",
      "{D}-->{B},  Lift=1.0,  Conf=1.0,  Sup=0.6\n",
      "{B}-->{A},  Lift=1.0,  Conf=0.8,  Sup=0.8\n",
      "{B}-->{C},  Lift=1.0,  Conf=0.8,  Sup=0.8\n",
      "[[['A', 'C', 'B'], ['D'], 1.6666666666666667, 1.0, 0.6], [['D', 'A', 'B'], ['C'], 1.25, 1.0, 0.6], [['D', 'C', 'B'], ['A'], 1.25, 1.0, 0.6], [['D', 'C', 'A'], ['B'], 1.0, 1.0, 0.6], [['A', 'C'], ['D', 'B'], 1.6666666666666667, 1.0, 0.6], [['D', 'B'], ['A', 'C'], 1.6666666666666667, 1.0, 0.6], [['D', 'A'], ['C', 'B'], 1.25, 1.0, 0.6], [['D', 'C'], ['A', 'B'], 1.25, 1.0, 0.6], [['A', 'C'], ['D'], 1.6666666666666667, 1.0, 0.6], [['D', 'B'], ['C'], 1.25, 1.0, 0.6], [['D', 'A'], ['C'], 1.25, 1.0, 0.6], [['D', 'C'], ['A'], 1.25, 1.0, 0.6], [['D', 'B'], ['A'], 1.25, 1.0, 0.6], [['D', 'C'], ['B'], 1.0, 1.0, 0.6], [['D', 'A'], ['B'], 1.0, 1.0, 0.6], [['A', 'C'], ['B'], 1.0, 1.0, 0.6], [['D'], ['A', 'C', 'B'], 1.6666666666666667, 1.0, 0.6], [['D'], ['A', 'C'], 1.6666666666666667, 1.0, 0.6], [['D'], ['C', 'B'], 1.25, 1.0, 0.6], [['D'], ['A', 'B'], 1.25, 1.0, 0.6], [['D'], ['A'], 1.25, 1.0, 0.6], [['D'], ['C'], 1.25, 1.0, 0.6], [['A'], ['B'], 1.0, 1.0, 0.8], [['C'], ['B'], 1.0, 1.0, 0.8], [['D'], ['B'], 1.0, 1.0, 0.6], [['B'], ['A'], 1.0, 0.8, 0.8], [['B'], ['C'], 1.0, 0.8, 0.8]]\n",
      "\n",
      "We have 27 sets of rules found.\n"
     ]
    }
   ],
   "source": [
    "#run apriori:\n",
    "rules=apr(d1, mspt=0.30,mcf=0.80,mlft=0)\n",
    "#i.e the same as rules = apr(d1), with default parameters.\n",
    "tidy_sort(rules)\n",
    "print_rules(rules)\n",
    "print(rules)\n",
    "\n",
    "print()\n",
    "print(f'We have {len(rules)} sets of rules found.')"
   ]
  },
  {
   "cell_type": "markdown",
   "metadata": {},
   "source": [
    "**Here are all the rules found with the demo.**"
   ]
  },
  {
   "cell_type": "markdown",
   "metadata": {},
   "source": [
    "## 4. CSV Input:\n",
    "For CSV input, first convert the data into a nested list."
   ]
  },
  {
   "cell_type": "code",
   "execution_count": null,
   "metadata": {},
   "outputs": [],
   "source": [
    "with open('YOUR_FILE_NAME.csv', 'r') as rawfile:\n",
    "    readfile=reader(rawfile)\n",
    "    data=list(map(list,readfile))"
   ]
  },
  {
   "cell_type": "markdown",
   "metadata": {},
   "source": [
    "Then do the same as in the demo, with self-assigned parameters or go all default."
   ]
  },
  {
   "cell_type": "code",
   "execution_count": null,
   "metadata": {},
   "outputs": [],
   "source": [
    "allrules1 = apr(data, mspt=0.15,mcf=0.80,mlft=0)\n",
    "#OR\n",
    "allrules2 = apr(data) #defualt parameters"
   ]
  }
 ],
 "metadata": {
  "kernelspec": {
   "display_name": "Python 3",
   "language": "python",
   "name": "python3"
  },
  "language_info": {
   "codemirror_mode": {
    "name": "ipython",
    "version": 3
   },
   "file_extension": ".py",
   "mimetype": "text/x-python",
   "name": "python",
   "nbconvert_exporter": "python",
   "pygments_lexer": "ipython3",
   "version": "3.8.5"
  }
 },
 "nbformat": 4,
 "nbformat_minor": 5
}
